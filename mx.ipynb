{
 "cells": [
  {
   "cell_type": "code",
   "execution_count": 2,
   "metadata": {},
   "outputs": [],
   "source": [
    "import configparser\n",
    "from sqlalchemy import create_engine\n",
    "import logging\n",
    "\n",
    "\n",
    "# Configure logging\n",
    "logging.basicConfig(filename='warship3.log', level=logging.INFO,\n",
    "                    format='%(asctime)s - %(levelname)s - %(message)s')\n",
    "\n",
    "def connect_to_database(section='DB', dbms='mysql'):\n",
    "    \"\"\"\n",
    "    Connect to a database using connection information from a config file.\n",
    "\n",
    "    Parameters:\n",
    "        section (str): The name of the section in the config file that contains the connection information.\n",
    "        dbms (str): The name of the database management system (DBMS) to use (default is 'mysql').\n",
    "\n",
    "    Returns:\n",
    "        sqlalchemy.engine.Connection: A connection object that can be used to execute SQL queries.\n",
    "\n",
    "    Raises:\n",
    "        ValueError: If the specified section is not found in the config file.\n",
    "    \"\"\"\n",
    "    config = configparser.ConfigParser()\n",
    "    config.read(\"config.ini\")\n",
    "    \n",
    "    if section not in config.sections():\n",
    "        error_message = f\"Section {section} not found in config.ini\"\n",
    "        logging.error(error_message)\n",
    "        raise ValueError(error_message)\n",
    "\n",
    "    # Get the connection information from the specified section\n",
    "    user = config[section][\"user\"]\n",
    "    password = config[section][\"password\"]\n",
    "    host = config[section][\"host\"]\n",
    "    port = int(config[section][\"port\"])\n",
    "    database = config[section][\"database\"]\n",
    "\n",
    "    # Create a connection string using sqlalchemy and the specified DBMS\n",
    "    connection_string = f\"{dbms}+mysqlconnector://{user}:{password}@{host}:{port}/{database}\"\n",
    "    # Create an engine object with the connection string\n",
    "    engine = create_engine(connection_string)\n",
    "    \n",
    "    try:\n",
    "        # Test the connection by executing a simple query\n",
    "        conn = engine.connect()\n",
    "        logging.info(f\"Successfully connected to {dbms.upper()} database: {database}\")\n",
    "        \n",
    "    except Exception as e:\n",
    "        logging.error(f\"Failed to connect to the database. Error: {e}\")\n",
    "        \n",
    "        raise\n",
    "\n",
    "    return conn\n"
   ]
  },
  {
   "cell_type": "code",
   "execution_count": 3,
   "metadata": {},
   "outputs": [
    {
     "name": "stdout",
     "output_type": "stream",
     "text": [
      "Successfully connected to the database.\n",
      "Connection successful!\n"
     ]
    }
   ],
   "source": [
    "try:\n",
    "    connection = connect_to_database()\n",
    "    print(\"Connection successful!\")\n",
    "except Exception as e:\n",
    "    print(f\"An error occurred: {e}\")\n"
   ]
  }
 ],
 "metadata": {
  "kernelspec": {
   "display_name": "venv",
   "language": "python",
   "name": "python3"
  },
  "language_info": {
   "codemirror_mode": {
    "name": "ipython",
    "version": 3
   },
   "file_extension": ".py",
   "mimetype": "text/x-python",
   "name": "python",
   "nbconvert_exporter": "python",
   "pygments_lexer": "ipython3",
   "version": "3.11.9"
  }
 },
 "nbformat": 4,
 "nbformat_minor": 2
}
